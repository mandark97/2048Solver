{
 "cells": [
  {
   "cell_type": "code",
   "execution_count": 1,
   "metadata": {
    "pycharm": {
     "name": "#%%\n"
    }
   },
   "outputs": [],
   "source": [
    "%matplotlib inline"
   ]
  },
  {
   "cell_type": "code",
   "execution_count": 2,
   "metadata": {
    "pycharm": {
     "name": "#%%\n"
    }
   },
   "outputs": [],
   "source": [
    "from collections import Counter\n",
    "from types import MethodType\n",
    "from typing import Tuple\n",
    "\n",
    "import numpy as np\n",
    "import torch\n",
    "import torch.nn as nn\n",
    "import torch.nn.functional as F\n",
    "import torch.optim as optim\n",
    "import matplotlib\n",
    "import matplotlib.pyplot as plt\n",
    "from torch.utils.tensorboard import SummaryWriter\n",
    "\n",
    "from env import GameEnv\n",
    "from trainer import Trainer"
   ]
  },
  {
   "cell_type": "code",
   "execution_count": 3,
   "metadata": {
    "pycharm": {
     "name": "#%%\n"
    }
   },
   "outputs": [],
   "source": [
    "is_ipython = 'inline' in matplotlib.get_backend()\n",
    "if is_ipython:\n",
    "    from IPython import display\n",
    "plt.ion()\n"
   ]
  },
  {
   "cell_type": "code",
   "execution_count": 4,
   "metadata": {
    "pycharm": {
     "name": "#%%\n"
    }
   },
   "outputs": [],
   "source": [
    "def reward_function(value_pair: Tuple) -> float:\n",
    "    return min(value_pair[0] / 4., 1.)\n",
    "\n",
    "\n",
    "def final_state_reward(score: float) -> float:\n",
    "    return -1.\n",
    "\n",
    "\n",
    "def invalid_move_reward() -> float:\n",
    "    return 0.\n",
    "\n",
    "\n",
    "GameEnv.final_state_reward = final_state_reward\n",
    "GameEnv.reward_function = reward_function\n",
    "GameEnv.invalid_move_reward = invalid_move_reward\n",
    "\n",
    "env = GameEnv()\n"
   ]
  },
  {
   "cell_type": "code",
   "execution_count": 5,
   "metadata": {
    "pycharm": {
     "name": "#%%\n"
    }
   },
   "outputs": [],
   "source": [
    "class DQN(nn.Module):\n",
    "    def __init__(self, outputs):\n",
    "        super(DQN, self).__init__()\n",
    "        self.fn1 = nn.Linear(4 * 4, 300)\n",
    "        self.fn2 = nn.Linear(300, 300)\n",
    "        self.fn3 = nn.Linear(300, 200)\n",
    "        self.fn4 = nn.Linear(200, 200)\n",
    "        self.fn5 = nn.Linear(200, 100)\n",
    "        self.fn6 = nn.Linear(100, 100)\n",
    "\n",
    "        self.head = nn.Linear(100, outputs)\n",
    "\n",
    "    # Called with either one element to determine next action, or a batch\n",
    "    # during optimization. Returns tensor([[left0exp,right0exp]...]).\n",
    "    def forward(self, x):\n",
    "        x = F.relu(self.fn1(x.view(x.size(0), -1)))\n",
    "        x = F.relu(self.fn2(x))\n",
    "        x = F.relu(self.fn3(x))\n",
    "        x = F.relu(self.fn4(x))\n",
    "        x = F.relu(self.fn5(x))\n",
    "        x = F.relu(self.fn6(x))\n",
    "\n",
    "        return self.head(x)\n"
   ]
  },
  {
   "cell_type": "code",
   "execution_count": 6,
   "metadata": {
    "pycharm": {
     "name": "#%%\n"
    }
   },
   "outputs": [],
   "source": [
    "# define transformation function\n",
    "def get_state(self: Trainer):\n",
    "    with np.errstate(divide='ignore'):\n",
    "        board = np.where(self.env.board != 0, np.log2(self.env.board), 0)\n",
    "        return torch.from_numpy(np.ascontiguousarray(board)).unsqueeze(0).float().to(self.device)"
   ]
  },
  {
   "cell_type": "code",
   "execution_count": 7,
   "metadata": {
    "pycharm": {
     "name": "#%%\n"
    }
   },
   "outputs": [],
   "source": [
    "# define constants\n",
    "num_episodes = 3000\n",
    "BATCH_SIZE = 256\n",
    "GAMMA = 0.999\n",
    "EPS_START = 1.\n",
    "EPS_END = 0.1\n",
    "EPS_DECAY = 9999\n",
    "TARGET_UPDATE = 50\n",
    "MEMORY_SIZE = 10000\n",
    "optimizer = optim.Adam\n",
    "optimizer_params = {\"lr\": 0.0001}\n",
    "run = \"run1\""
   ]
  },
  {
   "cell_type": "code",
   "execution_count": 8,
   "metadata": {
    "pycharm": {
     "name": "#%%\n"
    }
   },
   "outputs": [
    {
     "name": "stdout",
     "output_type": "stream",
     "text": [
      "cuda\n"
     ]
    }
   ],
   "source": [
    "# define trainer\n",
    "writer = SummaryWriter(f\"runs/{run}\")\n",
    "trainer = Trainer(memory_size=MEMORY_SIZE, batch_size=BATCH_SIZE, gamma=GAMMA, eps_start=EPS_START, eps_end=EPS_END,\n",
    "                  eps_decay=EPS_DECAY, target_update=TARGET_UPDATE, env=env, model=DQN, optimizer_klass=optimizer,\n",
    "                  optimizer_params=optimizer_params,\n",
    "                  loss_f=F.smooth_l1_loss, is_ipython=is_ipython, writer=writer)"
   ]
  },
  {
   "cell_type": "code",
   "execution_count": 9,
   "metadata": {
    "pycharm": {
     "name": "#%%\n"
    }
   },
   "outputs": [],
   "source": [
    "# assign state method\n",
    "trainer.get_state = MethodType(get_state, trainer)"
   ]
  },
  {
   "cell_type": "code",
   "execution_count": 10,
   "metadata": {
    "pycharm": {
     "name": "#%%\n"
    }
   },
   "outputs": [
    {
     "data": {
      "image/png": "[encoded data removed]",
      "text/plain": [
       "<Figure size 432x288 with 1 Axes>"
      ]
     },
     "metadata": {
      "needs_background": "light"
     },
     "output_type": "display_data"
    }
   ],
   "source": [
    "# train\n",
    "trainer.train(num_episodes)"
   ]
  },
  {
   "cell_type": "code",
   "execution_count": 12,
   "metadata": {},
   "outputs": [
    {
     "name": "stdout",
     "output_type": "stream",
     "text": [
      "Counter({64: 1305, 128: 1146, 32: 395, 256: 121, 16: 26, 8: 3, 4: 3, 512: 1})\n"
     ]
    }
   ],
   "source": [
    "print(Counter(trainer.get_highest_scores()))"
   ]
  },
  {
   "cell_type": "code",
   "execution_count": 11,
   "metadata": {
    "pycharm": {
     "name": "#%%\n"
    }
   },
   "outputs": [
    {
     "data": {
      "text/plain": [
       "<Figure size 432x288 with 0 Axes>"
      ]
     },
     "metadata": {},
     "output_type": "display_data"
    }
   ],
   "source": [
    "trainer.write_results(run)"
   ]
  }
 ],
 "metadata": {
  "kernelspec": {
   "display_name": "Python 3",
   "language": "python",
   "name": "python3"
  },
  "language_info": {
   "codemirror_mode": {
    "name": "ipython",
    "version": 3
   },
   "file_extension": ".py",
   "mimetype": "text/x-python",
   "name": "python",
   "nbconvert_exporter": "python",
   "pygments_lexer": "ipython3",
   "version": "3.7.7"
  }
 },
 "nbformat": 4,
 "nbformat_minor": 4
}
