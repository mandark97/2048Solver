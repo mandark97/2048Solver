{
 "cells": [
  {
   "cell_type": "code",
   "execution_count": 1,
   "metadata": {},
   "outputs": [],
   "source": [
    "%matplotlib inline"
   ]
  },
  {
   "cell_type": "code",
   "execution_count": 2,
   "metadata": {},
   "outputs": [],
   "source": [
    "import json\n",
    "import math\n",
    "import os\n",
    "import random\n",
    "import time\n",
    "from collections import Counter, namedtuple\n",
    "from itertools import count\n",
    "from typing import Dict, Optional\n",
    "from IPython import display\n",
    "\n",
    "import matplotlib.pyplot as plt\n",
    "import numpy as np\n",
    "import torch\n",
    "import torch.nn as nn\n",
    "import torch.nn.functional as F\n",
    "import torch.optim as optim\n",
    "\n",
    "from env import GameEnv"
   ]
  },
  {
   "cell_type": "code",
   "execution_count": 3,
   "metadata": {},
   "outputs": [],
   "source": [
    "Transition = namedtuple('Transition',\n",
    "                        ('state', 'action', 'next_state', 'reward'))\n",
    "\n",
    "class ReplayMemory(object):\n",
    "\n",
    "    def __init__(self, capacity):\n",
    "        self.capacity = capacity\n",
    "        self.memory = []\n",
    "        self.position = 0\n",
    "\n",
    "    def push(self, *args):\n",
    "        if len(self.memory) < self.capacity:\n",
    "            self.memory.append(None)\n",
    "        self.memory[self.position] = Transition(*args)\n",
    "        self.position = (self.position + 1) % self.capacity\n",
    "\n",
    "    def sample(self, batch_size):\n",
    "        return random.sample(self.memory, batch_size)\n",
    "\n",
    "    def __len__(self):\n",
    "        return len(self.memory)"
   ]
  },
  {
   "cell_type": "code",
   "execution_count": 4,
   "metadata": {},
   "outputs": [],
   "source": [
    "class DQN(nn.Module):\n",
    "    def __init__(self, input_shape, outputs):\n",
    "        super(DQN, self).__init__()\n",
    "\n",
    "        self.fn1 = nn.Linear(input_shape, 300)\n",
    "        self.fn2 = nn.Linear(300, 300)\n",
    "        self.fn3 = nn.Linear(300, 200)\n",
    "        self.fn4 = nn.Linear(200, 200)\n",
    "        self.fn5 = nn.Linear(200, 100)\n",
    "        self.fn6 = nn.Linear(100, 100)\n",
    "\n",
    "        self.head = nn.Linear(100, outputs)\n",
    "\n",
    "    def forward(self, x):\n",
    "        x = F.relu(self.fn1(x.view(x.size(0), -1)))\n",
    "        x = F.relu(self.fn2(x))\n",
    "        x = F.relu(self.fn3(x))\n",
    "        x = F.relu(self.fn4(x))\n",
    "        x = F.relu(self.fn5(x))\n",
    "        x = F.relu(self.fn6(x))\n",
    "\n",
    "        return self.head(x)"
   ]
  },
  {
   "cell_type": "code",
   "execution_count": 5,
   "metadata": {},
   "outputs": [],
   "source": [
    "def select_action(state):\n",
    "    global steps_done\n",
    "    sample = random.random()\n",
    "    eps_threshold = EPS_END + (EPS_START - EPS_END) * \\\n",
    "        math.exp(-1. * steps_done / EPS_DECAY)\n",
    "    steps_done += 1\n",
    "\n",
    "    if sample > eps_threshold:\n",
    "        with torch.no_grad():\n",
    "            return policy_net(state).max(1)[1].view(1, 1)\n",
    "    else:\n",
    "        return torch.tensor([[random.randrange(n_actions)]], device=device, dtype=torch.long)"
   ]
  },
  {
   "cell_type": "code",
   "execution_count": 49,
   "metadata": {},
   "outputs": [],
   "source": [
    "def optimize_model():\n",
    "    if len(memory) < BATCH_SIZE:\n",
    "        return\n",
    "    transitions = memory.sample(BATCH_SIZE)\n",
    "    batch = Transition(*zip(*transitions))\n",
    "\n",
    "    non_final_mask = torch.tensor(tuple(map(lambda s: s is not None,\n",
    "                                            batch.next_state)), device=device, dtype=torch.bool)\n",
    "    non_final_next_states = torch.cat([s for s in batch.next_state\n",
    "                                        if s is not None])\n",
    "    state_batch = torch.cat(batch.state)\n",
    "    action_batch = torch.cat(batch.action)\n",
    "    reward_batch = torch.cat(batch.reward)\n",
    "\n",
    "    state_action_values = policy_net(state_batch).gather(1, action_batch)\n",
    "    \n",
    "        \n",
    "    next_state_values = torch.zeros(BATCH_SIZE, device=device)\n",
    "    next_state_actions = policy_net(non_final_next_states).max(1)[1]\n",
    "    next_state_values[non_final_mask] = target_net(non_final_next_states).gather(1, next_state_actions.view(-1,1)).squeeze().detach()    \n",
    "    expected_state_action_values = (next_state_values * GAMMA) + reward_batch\n",
    "\n",
    "    loss = F.smooth_l1_loss(state_action_values, expected_state_action_values.unsqueeze(1))\n",
    "    optimizer.zero_grad()\n",
    "    loss.backward()\n",
    "    for param in policy_net.parameters():\n",
    "        param.grad.data.clamp_(-1, 1)\n",
    "    optimizer.step()"
   ]
  },
  {
   "cell_type": "code",
   "execution_count": 7,
   "metadata": {},
   "outputs": [],
   "source": [
    "def train(num_episodes):\n",
    "    for i_episode in range(num_episodes):\n",
    "        env.reset()\n",
    "\n",
    "        current_board = get_state(env)\n",
    "        old_board = get_state(env)\n",
    "        \n",
    "        for t in count():\n",
    "            action = select_action(current_board)\n",
    "            _, reward, done, _ = env.step(action.item())\n",
    "            if reward > 1 or reward < -1:\n",
    "                print(\"reward not normalized\")\n",
    "            reward = torch.tensor([reward], device=device)\n",
    "\n",
    "            current_board = get_state(env)\n",
    "\n",
    "            if not done:\n",
    "                next_state = current_board\n",
    "            else:\n",
    "                next_state = None\n",
    "\n",
    "            memory.push(old_board, action, next_state, reward)\n",
    "\n",
    "            optimize_model()\n",
    "            if done:\n",
    "                episode_scores.append(env.score)\n",
    "                highest_scores.append(env.highest())\n",
    "                plot_scores()\n",
    "                break\n",
    "                \n",
    "        if i_episode % TARGET_UPDATE == 0:\n",
    "            target_net.load_state_dict(policy_net.state_dict())"
   ]
  },
  {
   "cell_type": "code",
   "execution_count": 8,
   "metadata": {},
   "outputs": [],
   "source": [
    "def plot_scores(save=None):\n",
    "    plt.figure(2)\n",
    "    plt.clf()\n",
    "    scores_t = torch.tensor(highest_scores, dtype=torch.float)\n",
    "    plt.title('Training...')\n",
    "    plt.xlabel('Episode')\n",
    "    plt.ylabel('Highest Scores')\n",
    "    plt.plot(scores_t.numpy())\n",
    "    # Take 100 episode averages and plot them too\n",
    "    if len(scores_t) >= 100:\n",
    "        means = scores_t.unfold(0, 100, 1).mean(1).view(-1)\n",
    "        means = torch.cat((torch.zeros(99), means))\n",
    "        plt.plot(means.numpy())\n",
    "\n",
    "    if save is not None:\n",
    "        plt.savefig(save, dpi=300, bbox_inches='tight')\n",
    "\n",
    "    plt.pause(0.001)  # pause a bit so that plots are updated\n",
    "\n",
    "    display.clear_output(wait=True)"
   ]
  },
  {
   "cell_type": "code",
   "execution_count": 9,
   "metadata": {},
   "outputs": [],
   "source": [
    "def write_results(log_dir):\n",
    "    try:\n",
    "        os.makedirs(log_dir)\n",
    "    except OSError:\n",
    "        pass\n",
    "    plot_scores(save=f\"{log_dir}/plot.png\")\n",
    "    torch.save(target_net, f\"{log_dir}/target.pt\")\n",
    "    torch.save(policy_net, f\"{log_dir}/policy.pt\")\n",
    "    torch.save(optimizer, f\"{log_dir}/optimizer.pt\")\n",
    "\n",
    "    with open(f\"{log_dir}/highest_scores.json\", \"w\") as json_file:\n",
    "        scores = {str(k): v for k, v in Counter(\n",
    "            highest_scores).items()}\n",
    "        print(scores)\n",
    "        json.dump(scores, json_file)"
   ]
  },
  {
   "cell_type": "code",
   "execution_count": 10,
   "metadata": {},
   "outputs": [],
   "source": [
    "def evaluate(steps):\n",
    "    episode_scores = []\n",
    "    highest_scores = []\n",
    "    for i in range(steps):\n",
    "        env.reset()\n",
    "        steps_done = 0\n",
    "        for t in count():\n",
    "            with torch.no_grad():\n",
    "                action = policy_net(get_state(env)).max(1)[1].view(1, 1)\n",
    "            board, reward, done, info = env.step(action.item())\n",
    "            steps_done += 1\n",
    "            if done or steps_done > 2000:\n",
    "                if steps_done > 2000:\n",
    "                    print(\"max steps reached\")\n",
    "                env.render()\n",
    "                episode_scores.append(env.score)\n",
    "                highest_scores.append(env.highest())\n",
    "                break\n",
    "    print(Counter(highest_scores))\n",
    "    plt.plot(highest_scores)"
   ]
  },
  {
   "cell_type": "code",
   "execution_count": 11,
   "metadata": {},
   "outputs": [],
   "source": [
    "num_episodes = 1000\n",
    "BATCH_SIZE = 128\n",
    "GAMMA = 0.999\n",
    "EPS_START = 1.\n",
    "EPS_END = 0.05\n",
    "EPS_DECAY = 200\n",
    "TARGET_UPDATE = 10\n",
    "MEMORY_SIZE = 10000\n",
    "device = torch.device(\"cuda\" if torch.cuda.is_available() else \"cpu\")"
   ]
  },
  {
   "cell_type": "markdown",
   "metadata": {},
   "source": [
    "Start training setup"
   ]
  },
  {
   "cell_type": "code",
   "execution_count": 12,
   "metadata": {},
   "outputs": [],
   "source": [
    "# 4*16 matrix\n",
    "def get_state(env: GameEnv):\n",
    "    with np.errstate(divide='ignore'):\n",
    "        board = np.where(env.board != 0, np.log2(env.board).astype(np.int), 0)\n",
    "    board = np.vectorize(np.binary_repr)(board, width=4).astype(str)\n",
    "    board = np.array([list(''.join(line)) for line in board]).astype(np.int)\n",
    "    return torch.from_numpy(np.ascontiguousarray(board)).unsqueeze(0).float().to(device)"
   ]
  },
  {
   "cell_type": "code",
   "execution_count": 13,
   "metadata": {},
   "outputs": [],
   "source": [
    "class Reward1():\n",
    "    @staticmethod\n",
    "    def reward_function(score) -> float:\n",
    "        return score / 80\n",
    "    \n",
    "    @staticmethod\n",
    "    def tile_merge_reward(value_pair) -> float:\n",
    "        return np.log2(value_pair[0])\n",
    "\n",
    "    @staticmethod\n",
    "    def final_state_reward(score: float = None) -> float:\n",
    "        return 0.\n",
    "\n",
    "    @staticmethod\n",
    "    def invalid_move_reward() -> float:\n",
    "        return 0.\n",
    "\n",
    "env = GameEnv(reward_class=Reward1)"
   ]
  },
  {
   "cell_type": "code",
   "execution_count": 14,
   "metadata": {},
   "outputs": [],
   "source": [
    "episode_scores = []\n",
    "highest_scores = []\n",
    "memory = ReplayMemory(MEMORY_SIZE)\n",
    "steps_done = 0\n",
    "n_actions = env.action_space.n\n",
    "policy_net = DQN(4*16, n_actions).to(device)\n",
    "target_net = DQN(4*16, n_actions).to(device)\n",
    "target_net.load_state_dict(policy_net.state_dict())\n",
    "target_net.eval()\n",
    "optimizer = optim.RMSprop(policy_net.parameters())"
   ]
  },
  {
   "cell_type": "code",
   "execution_count": 15,
   "metadata": {},
   "outputs": [],
   "source": [
    "import logging\n",
    "logging.basicConfig(level=logging.DEBUG, filename=\"run.log\")"
   ]
  },
  {
   "cell_type": "code",
   "execution_count": 50,
   "metadata": {},
   "outputs": [
    {
     "data": {
      "image/png": "[encoded data removed]",
      "text/plain": [
       "<Figure size 432x288 with 1 Axes>"
      ]
     },
     "metadata": {
      "needs_background": "light"
     },
     "output_type": "display_data"
    }
   ],
   "source": [
    "for i in range(10):\n",
    "    train(num_episodes)\n",
    "    write_results(f\"runs/ddqn1/{i}\")"
   ]
  },
  {
   "cell_type": "code",
   "execution_count": null,
   "metadata": {
    "scrolled": true
   },
   "outputs": [],
   "source": [
    "evaluate(100)"
   ]
  },
  {
   "cell_type": "code",
   "execution_count": null,
   "metadata": {},
   "outputs": [],
   "source": [
    "class Reward2():\n",
    "    @staticmethod\n",
    "    def reward_function(score) -> float:\n",
    "        return min(score/4, 1)\n",
    "    \n",
    "#     number of tiles mergesd\n",
    "    @staticmethod\n",
    "    def tile_merge_reward(value_pair) -> float:\n",
    "        return 1\n",
    "\n",
    "    @staticmethod\n",
    "    def final_state_reward(score: float = None) -> float:\n",
    "        return -1.\n",
    "\n",
    "    @staticmethod\n",
    "    def invalid_move_reward() -> float:\n",
    "        return 0.\n",
    "\n",
    "env = GameEnv(reward_class=Reward2)"
   ]
  },
  {
   "cell_type": "code",
   "execution_count": null,
   "metadata": {},
   "outputs": [],
   "source": [
    "episode_scores = []\n",
    "highest_scores = []\n",
    "memory = ReplayMemory(MEMORY_SIZE)\n",
    "steps_done = 0\n",
    "n_actions = env.action_space.n\n",
    "policy_net = DQN(4*16, n_actions).to(device)\n",
    "target_net = DQN(4*16, n_actions).to(device)\n",
    "target_net.load_state_dict(policy_net.state_dict())\n",
    "target_net.eval()\n",
    "optimizer = optim.RMSprop(policy_net.parameters())"
   ]
  },
  {
   "cell_type": "code",
   "execution_count": null,
   "metadata": {},
   "outputs": [],
   "source": [
    "for i in range(10):\n",
    "    train(num_episodes)\n",
    "    write_results(f\"runs/ddqn2/{i}\")"
   ]
  },
  {
   "cell_type": "code",
   "execution_count": null,
   "metadata": {},
   "outputs": [],
   "source": [
    "evaluate(100)"
   ]
  },
  {
   "cell_type": "code",
   "execution_count": null,
   "metadata": {},
   "outputs": [],
   "source": [
    "# 4*4 matrix\n",
    "def get_state(env: GameEnv):\n",
    "    with np.errstate(divide='ignore'):\n",
    "        board = np.where(env.board != 0, np.log2(env.board), 0)\n",
    "        return torch.from_numpy(np.ascontiguousarray(board)).unsqueeze(0).float().to(device)"
   ]
  },
  {
   "cell_type": "code",
   "execution_count": null,
   "metadata": {},
   "outputs": [],
   "source": [
    "# def state2tensor(state):\n",
    "#     t = np.zeros((16, 16), dtype=np.float32)\n",
    "#     for i, c in enumerate(state.flatten()):\n",
    "#         t[c, i] = 1\n",
    "#     t.resize(1, 16, 4, 4)\n",
    "#     return t"
   ]
  },
  {
   "cell_type": "code",
   "execution_count": null,
   "metadata": {},
   "outputs": [],
   "source": []
  }
 ],
 "metadata": {
  "kernelspec": {
   "display_name": "Python 3.8.2 64-bit ('RL': conda)",
   "language": "python",
   "name": "python38264bitrlconda68ce3ab4ea5b4620a3d404c82311747c"
  },
  "language_info": {
   "codemirror_mode": {
    "name": "ipython",
    "version": 3
   },
   "file_extension": ".py",
   "mimetype": "text/x-python",
   "name": "python",
   "nbconvert_exporter": "python",
   "pygments_lexer": "ipython3",
   "version": "3.8.2"
  }
 },
 "nbformat": 4,
 "nbformat_minor": 4
}